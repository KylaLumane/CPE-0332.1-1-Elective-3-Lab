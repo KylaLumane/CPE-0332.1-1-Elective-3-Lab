{
  "nbformat": 4,
  "nbformat_minor": 0,
  "metadata": {
    "colab": {
      "provenance": [],
      "authorship_tag": "ABX9TyPHb8TJeadUXzX0FWtvlVc3",
      "include_colab_link": true
    },
    "kernelspec": {
      "name": "python3",
      "display_name": "Python 3"
    },
    "language_info": {
      "name": "python"
    }
  },
  "cells": [
    {
      "cell_type": "markdown",
      "metadata": {
        "id": "view-in-github",
        "colab_type": "text"
      },
      "source": [
        "<a href=\"https://colab.research.google.com/github/KylaLumane/PLM-Elective-3-Lab/blob/main/Python_Fundamentals.ipynb\" target=\"_parent\"><img src=\"https://colab.research.google.com/assets/colab-badge.svg\" alt=\"Open In Colab\"/></a>"
      ]
    },
    {
      "cell_type": "markdown",
      "source": [
        "Python Indentation"
      ],
      "metadata": {
        "id": "mGy-YS_JjRLX"
      }
    },
    {
      "cell_type": "code",
      "source": [
        "if 5>2:\n",
        "  print (\"5 is greater than 2\")"
      ],
      "metadata": {
        "colab": {
          "base_uri": "https://localhost:8080/"
        },
        "id": "RJb64gc3jwq1",
        "outputId": "2a5b61e7-6fea-4da2-8eaa-986042372ed4"
      },
      "execution_count": 1,
      "outputs": [
        {
          "output_type": "stream",
          "name": "stdout",
          "text": [
            "5 is greater than 2\n"
          ]
        }
      ]
    },
    {
      "cell_type": "markdown",
      "source": [
        "Python Comment\n"
      ],
      "metadata": {
        "id": "guv10amrktgo"
      }
    },
    {
      "cell_type": "code",
      "source": [
        "print(\"Hello World\") #This is a python comment\n"
      ],
      "metadata": {
        "colab": {
          "base_uri": "https://localhost:8080/"
        },
        "id": "Xj3J803kkx0I",
        "outputId": "caa70ac6-95ea-47c7-8413-0ce1a57083e1"
      },
      "execution_count": 2,
      "outputs": [
        {
          "output_type": "stream",
          "name": "stdout",
          "text": [
            "Hello World\n"
          ]
        }
      ]
    },
    {
      "cell_type": "markdown",
      "source": [
        "Python Variable"
      ],
      "metadata": {
        "id": "iVG-t8Rak32v"
      }
    },
    {
      "cell_type": "code",
      "source": [
        "z = 1\n",
        "z,s = 0,-1\n",
        "z,s,t = 8,9,10\n",
        "print (s)"
      ],
      "metadata": {
        "colab": {
          "base_uri": "https://localhost:8080/"
        },
        "id": "o7S7eKbfk7Bk",
        "outputId": "9641037a-f4e5-4fb0-f7a6-f2e4d832d541"
      },
      "execution_count": 5,
      "outputs": [
        {
          "output_type": "stream",
          "name": "stdout",
          "text": [
            "9\n"
          ]
        }
      ]
    },
    {
      "cell_type": "markdown",
      "source": [
        "Casting\n"
      ],
      "metadata": {
        "id": "FQu_fP2QmBW5"
      }
    },
    {
      "cell_type": "code",
      "source": [
        "b = \"Sally\" #This is a string\n",
        "b = int(4)\n",
        "print (b)"
      ],
      "metadata": {
        "colab": {
          "base_uri": "https://localhost:8080/"
        },
        "id": "ft4sb09qmC3h",
        "outputId": "b7c3df53-7188-4cf2-93c3-cb48b29e4943"
      },
      "execution_count": 7,
      "outputs": [
        {
          "output_type": "stream",
          "name": "stdout",
          "text": [
            "4\n"
          ]
        }
      ]
    },
    {
      "cell_type": "code",
      "source": [
        "\n",
        "print(type(b))"
      ],
      "metadata": {
        "colab": {
          "base_uri": "https://localhost:8080/"
        },
        "id": "1RBhtipOmd0K",
        "outputId": "6a739af7-a315-4100-e5a1-7fbbfc26b50b"
      },
      "execution_count": 9,
      "outputs": [
        {
          "output_type": "stream",
          "name": "stdout",
          "text": [
            "<class 'int'>\n"
          ]
        }
      ]
    },
    {
      "cell_type": "markdown",
      "source": [
        "Double Quotes abd Single Quotes\n"
      ],
      "metadata": {
        "id": "l3rx6Mx2m79R"
      }
    },
    {
      "cell_type": "code",
      "source": [
        "w = \"Ana\"\n",
        "print (w)\n",
        "q = 'Ana'\n",
        "print(q)"
      ],
      "metadata": {
        "colab": {
          "base_uri": "https://localhost:8080/"
        },
        "id": "9BlBXvWBm_A5",
        "outputId": "3782d3ec-44b0-41be-f4e1-9d7d34b25e90"
      },
      "execution_count": 12,
      "outputs": [
        {
          "output_type": "stream",
          "name": "stdout",
          "text": [
            "Ana\n",
            "Ana\n"
          ]
        }
      ]
    },
    {
      "cell_type": "markdown",
      "source": [
        "Case Sensitive"
      ],
      "metadata": {
        "id": "3kKn2Rm-naHp"
      }
    },
    {
      "cell_type": "code",
      "source": [
        "a = int(4)\n",
        "A = \"Sally\"\n",
        "A"
      ],
      "metadata": {
        "colab": {
          "base_uri": "https://localhost:8080/",
          "height": 35
        },
        "id": "pImDcvHvndKJ",
        "outputId": "ab8a380e-2670-40f2-fbea-cfce6fca513a"
      },
      "execution_count": 16,
      "outputs": [
        {
          "output_type": "execute_result",
          "data": {
            "text/plain": [
              "'Sally'"
            ],
            "application/vnd.google.colaboratory.intrinsic+json": {
              "type": "string"
            }
          },
          "metadata": {},
          "execution_count": 16
        }
      ]
    },
    {
      "cell_type": "markdown",
      "source": [
        "Multiple Variable"
      ],
      "metadata": {
        "id": "EgMNWDlEoB3D"
      }
    },
    {
      "cell_type": "code",
      "source": [
        "h,i,j= \"one\",'two',\"three\"\n",
        "print(h,i,j)"
      ],
      "metadata": {
        "colab": {
          "base_uri": "https://localhost:8080/"
        },
        "id": "oGmXz-DAoDch",
        "outputId": "64ad8ac0-f30c-49fb-fa51-121d5a2efbb6"
      },
      "execution_count": 17,
      "outputs": [
        {
          "output_type": "stream",
          "name": "stdout",
          "text": [
            "one two three\n"
          ]
        }
      ]
    },
    {
      "cell_type": "markdown",
      "source": [
        "Multiple Variable with Single Value"
      ],
      "metadata": {
        "id": "coj6ttZEorbR"
      }
    },
    {
      "cell_type": "code",
      "source": [
        "k=l=m=\"four\"\n",
        "print(k)\n",
        "print(l)\n",
        "print(m)"
      ],
      "metadata": {
        "colab": {
          "base_uri": "https://localhost:8080/"
        },
        "id": "epz1A_YVot55",
        "outputId": "99415110-cb62-43b4-de9c-fe58478b4ae1"
      },
      "execution_count": 18,
      "outputs": [
        {
          "output_type": "stream",
          "name": "stdout",
          "text": [
            "four\n",
            "four\n",
            "four\n"
          ]
        }
      ]
    },
    {
      "cell_type": "markdown",
      "source": [
        "Output Variable and Concatenation +"
      ],
      "metadata": {
        "id": "OqvFa7UTo8Zh"
      }
    },
    {
      "cell_type": "code",
      "source": [
        "n = \"enjoying\"\n",
        "p = \"Python  programming is \"\n",
        "print(p + n)"
      ],
      "metadata": {
        "colab": {
          "base_uri": "https://localhost:8080/"
        },
        "id": "kJOryDfSpAWa",
        "outputId": "3b878cfd-2ac5-42ef-d2f2-74c93b77f5a4"
      },
      "execution_count": 21,
      "outputs": [
        {
          "output_type": "stream",
          "name": "stdout",
          "text": [
            "Python  programming is enjoying\n"
          ]
        }
      ]
    },
    {
      "cell_type": "markdown",
      "source": [
        "Arithmetic Operations"
      ],
      "metadata": {
        "id": "h8iv97cMwc46"
      }
    },
    {
      "cell_type": "code",
      "source": [
        "x,y,z=3,4,5\n",
        "print(x//y)\n"
      ],
      "metadata": {
        "colab": {
          "base_uri": "https://localhost:8080/"
        },
        "id": "TeHFZlx_we2S",
        "outputId": "89148a58-675d-4fab-dcbe-fe2b5e690887"
      },
      "execution_count": 24,
      "outputs": [
        {
          "output_type": "stream",
          "name": "stdout",
          "text": [
            "0\n"
          ]
        }
      ]
    },
    {
      "cell_type": "markdown",
      "source": [
        "Assignment Operator"
      ],
      "metadata": {
        "id": "0r5jiOmfxeYY"
      }
    },
    {
      "cell_type": "code",
      "source": [
        "x+=3 #same as x = x+3\n",
        "print(x)"
      ],
      "metadata": {
        "colab": {
          "base_uri": "https://localhost:8080/"
        },
        "id": "9cGPk0dyxgRg",
        "outputId": "5f28389b-df87-4b39-8843-6eb490ce4acd"
      },
      "execution_count": 25,
      "outputs": [
        {
          "output_type": "stream",
          "name": "stdout",
          "text": [
            "6\n"
          ]
        }
      ]
    },
    {
      "cell_type": "markdown",
      "source": [
        "Comparison Operator"
      ],
      "metadata": {
        "id": "9o-pMQp_xJ9g"
      }
    },
    {
      "cell_type": "code",
      "source": [
        "print(x==y) #x+=3\n",
        "print(x!=y)\n",
        "print (x>y)\n",
        "print(x<y)"
      ],
      "metadata": {
        "colab": {
          "base_uri": "https://localhost:8080/"
        },
        "id": "i0TdiC2XxMi5",
        "outputId": "a5e566e6-dd81-464d-c721-be46269743b0"
      },
      "execution_count": 27,
      "outputs": [
        {
          "output_type": "stream",
          "name": "stdout",
          "text": [
            "False\n",
            "True\n",
            "True\n",
            "False\n"
          ]
        }
      ]
    },
    {
      "cell_type": "markdown",
      "source": [
        "Logical Operators"
      ],
      "metadata": {
        "id": "DBVWbtH8x81w"
      }
    },
    {
      "cell_type": "code",
      "source": [
        "print(x==y and x!=y) #False and True\n",
        "print(x==y or x!=y) #False or True\n",
        "print(not(x==y or x!=y)) #negate(false or true)"
      ],
      "metadata": {
        "colab": {
          "base_uri": "https://localhost:8080/"
        },
        "id": "rBvOMwoVx-Mw",
        "outputId": "edf87e6c-3e8e-46b6-8812-8cf2bfb35b0d"
      },
      "execution_count": 30,
      "outputs": [
        {
          "output_type": "stream",
          "name": "stdout",
          "text": [
            "False\n",
            "True\n",
            "False\n"
          ]
        }
      ]
    },
    {
      "cell_type": "markdown",
      "source": [
        "Identity Operator"
      ],
      "metadata": {
        "id": "1VhX0vDdzElR"
      }
    },
    {
      "cell_type": "code",
      "source": [
        "x is y #x=3, y=2\n",
        "x is not y"
      ],
      "metadata": {
        "colab": {
          "base_uri": "https://localhost:8080/"
        },
        "id": "jPZFyntszGcx",
        "outputId": "3891d150-2cc4-4242-eca1-c3258273471e"
      },
      "execution_count": 31,
      "outputs": [
        {
          "output_type": "execute_result",
          "data": {
            "text/plain": [
              "True"
            ]
          },
          "metadata": {},
          "execution_count": 31
        }
      ]
    },
    {
      "cell_type": "markdown",
      "source": [
        "Bitwise Operation"
      ],
      "metadata": {
        "id": "VpHbYP1Dzgq4"
      }
    },
    {
      "cell_type": "code",
      "source": [
        "#10 + 1 = 11   ; 1010 + 0001 = 1011\n",
        "print(10|1)\n",
        "\n",
        "print(x>>1)  #x=3  , 011"
      ],
      "metadata": {
        "colab": {
          "base_uri": "https://localhost:8080/"
        },
        "id": "fs1dLLdpziD7",
        "outputId": "f7c20d01-d4f0-4b84-b98e-c3b48f61a654"
      },
      "execution_count": 34,
      "outputs": [
        {
          "output_type": "stream",
          "name": "stdout",
          "text": [
            "11\n",
            "3\n"
          ]
        }
      ]
    }
  ]
}