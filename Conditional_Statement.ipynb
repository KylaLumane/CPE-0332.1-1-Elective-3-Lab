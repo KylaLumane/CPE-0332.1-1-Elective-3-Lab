{
  "nbformat": 4,
  "nbformat_minor": 0,
  "metadata": {
    "colab": {
      "provenance": [],
      "authorship_tag": "ABX9TyP5N4qslLVOpVWR9Op4BOTU",
      "include_colab_link": true
    },
    "kernelspec": {
      "name": "python3",
      "display_name": "Python 3"
    },
    "language_info": {
      "name": "python"
    }
  },
  "cells": [
    {
      "cell_type": "markdown",
      "metadata": {
        "id": "view-in-github",
        "colab_type": "text"
      },
      "source": [
        "<a href=\"https://colab.research.google.com/github/KylaLumane/CPE-0332.1-1-Elective-3-Lab/blob/main/Conditional_Statement.ipynb\" target=\"_parent\"><img src=\"https://colab.research.google.com/assets/colab-badge.svg\" alt=\"Open In Colab\"/></a>"
      ]
    },
    {
      "cell_type": "markdown",
      "source": [
        "If Statement\n"
      ],
      "metadata": {
        "id": "t_qWkKqcCRvg"
      }
    },
    {
      "cell_type": "code",
      "source": [
        "a = 12\n",
        "b = 100\n",
        "\n",
        "if a<b:\n",
        "  print(\"a is less than b\")"
      ],
      "metadata": {
        "colab": {
          "base_uri": "https://localhost:8080/"
        },
        "id": "WaSFZmtTCUlQ",
        "outputId": "4da43094-efb5-4bd3-f5ef-54190b108e0d"
      },
      "execution_count": 2,
      "outputs": [
        {
          "output_type": "stream",
          "name": "stdout",
          "text": [
            "a is less than b\n"
          ]
        }
      ]
    },
    {
      "cell_type": "markdown",
      "source": [
        "Elif Statement\n"
      ],
      "metadata": {
        "id": "2gyaUypMCpAJ"
      }
    },
    {
      "cell_type": "code",
      "source": [
        "age = int(input(\"Enter your age: \"))\n",
        "\n",
        "if age >= 18:\n",
        "  print(\"You are qualified to get a license\")\n",
        "elif age < 18:\n",
        "  print(\"You are not qualified to get a license\")"
      ],
      "metadata": {
        "colab": {
          "base_uri": "https://localhost:8080/"
        },
        "id": "-ze8b0lWCrkY",
        "outputId": "dd81c009-01b5-427c-da49-c8da58a3f6b5"
      },
      "execution_count": 9,
      "outputs": [
        {
          "output_type": "stream",
          "name": "stdout",
          "text": [
            "Enter your age: 15\n",
            "You are not qualified to get a license\n"
          ]
        }
      ]
    },
    {
      "cell_type": "markdown",
      "source": [
        "Else Statement"
      ],
      "metadata": {
        "id": "JSNsMpC3Ec05"
      }
    },
    {
      "cell_type": "code",
      "source": [
        "x = int(input(\"Enter an integer: \"))\n",
        "if x > 0:\n",
        "  print(\"Positive Number\")\n",
        "elif x < 0:\n",
        "  print(\"Negative Number\")\n",
        "else:\n",
        "  print(\"Zero\")\n",
        "\n",
        "\n"
      ],
      "metadata": {
        "colab": {
          "base_uri": "https://localhost:8080/"
        },
        "id": "3K2k9BJtEgRQ",
        "outputId": "1a9694ff-994c-46dd-b6d5-d23ac34355c3"
      },
      "execution_count": 11,
      "outputs": [
        {
          "output_type": "stream",
          "name": "stdout",
          "text": [
            "Enter an integer: -23\n",
            "Negative Number\n"
          ]
        }
      ]
    },
    {
      "cell_type": "markdown",
      "source": [
        "Short Hand If Statement"
      ],
      "metadata": {
        "id": "2KVD6tXIFXnR"
      }
    },
    {
      "cell_type": "code",
      "source": [
        "if a < b: print(\"a is less than b\")"
      ],
      "metadata": {
        "colab": {
          "base_uri": "https://localhost:8080/"
        },
        "id": "2aJusmsMFaxQ",
        "outputId": "94c16e3f-0734-4e28-c928-7af17a17969c"
      },
      "execution_count": 12,
      "outputs": [
        {
          "output_type": "stream",
          "name": "stdout",
          "text": [
            "a is less than b\n"
          ]
        }
      ]
    },
    {
      "cell_type": "markdown",
      "source": [
        "Short Hand If Else Statement"
      ],
      "metadata": {
        "id": "qzNU_rKOF_uY"
      }
    },
    {
      "cell_type": "code",
      "source": [
        "print(\"a is greater than b\") if a > b else print(\"b is greater than a\")"
      ],
      "metadata": {
        "colab": {
          "base_uri": "https://localhost:8080/"
        },
        "id": "GSBAChWFGGJh",
        "outputId": "ebe99c64-7f40-4701-b426-e3dbb2506296"
      },
      "execution_count": 13,
      "outputs": [
        {
          "output_type": "stream",
          "name": "stdout",
          "text": [
            "b is greater than a\n"
          ]
        }
      ]
    },
    {
      "cell_type": "markdown",
      "source": [
        "And Statement"
      ],
      "metadata": {
        "id": "pH-Ehwm6GgaY"
      }
    },
    {
      "cell_type": "code",
      "source": [
        "c = 500\n",
        "\n",
        "if a > b and c > a:\n",
        "  print(\"Both statements are True\")"
      ],
      "metadata": {
        "colab": {
          "base_uri": "https://localhost:8080/"
        },
        "id": "zkQ7cRMwGi0o",
        "outputId": "fa302a42-d9e9-4140-c404-9266581bf069"
      },
      "execution_count": 23,
      "outputs": [
        {
          "output_type": "stream",
          "name": "stdout",
          "text": [
            "Both statements are True\n"
          ]
        }
      ]
    },
    {
      "cell_type": "markdown",
      "source": [
        "Or Statement"
      ],
      "metadata": {
        "id": "-Sh5SrFmHNVo"
      }
    },
    {
      "cell_type": "code",
      "source": [
        "\n",
        "c = 500\n",
        "\n",
        "if a < b or c > a:\n",
        "  print(\"Both statements are True\")"
      ],
      "metadata": {
        "colab": {
          "base_uri": "https://localhost:8080/"
        },
        "id": "3l8kLZ8hHRCh",
        "outputId": "70a2a390-ac9e-4bb9-da40-7b83bc052405"
      },
      "execution_count": 20,
      "outputs": [
        {
          "output_type": "stream",
          "name": "stdout",
          "text": [
            "Both statements are True\n"
          ]
        }
      ]
    },
    {
      "cell_type": "markdown",
      "source": [
        "Nested If Statement"
      ],
      "metadata": {
        "id": "fLu-fljBHodB"
      }
    },
    {
      "cell_type": "code",
      "source": [
        "x = int(input(\"Enter an Integer: \"))\n",
        "\n",
        "if x > 10:\n",
        "    print(\"Above ten,\")\n",
        "    if x > 20:\n",
        "        print(\"and also above 20.\")\n",
        "        if x > 30:\n",
        "            print(\"and also above 30.\")\n",
        "            if x > 40:\n",
        "                print(\"and also above 40.\")\n",
        "                if x > 50:\n",
        "                    print(\"and also above 50.\")\n",
        "                else:\n",
        "                    print(\"but not above 50.\")\n",
        "            else:\n",
        "                print(\"but not above 40.\")\n",
        "        else:\n",
        "            print(\"but not above 30.\")\n",
        "    else:\n",
        "        print(\"but not above 20.\")\n",
        "else:\n",
        "    print(\"Ten or below.\")\n"
      ],
      "metadata": {
        "colab": {
          "base_uri": "https://localhost:8080/"
        },
        "id": "nxJiie96HsIw",
        "outputId": "58dbfc7b-5d82-45af-8dcc-c15d1c59bcd0"
      },
      "execution_count": 42,
      "outputs": [
        {
          "output_type": "stream",
          "name": "stdout",
          "text": [
            "Enter an Integer: 31\n",
            "Above ten,\n",
            "and also above 20.\n",
            "and also above 30.\n",
            "but not above 40.\n"
          ]
        }
      ]
    },
    {
      "cell_type": "markdown",
      "source": [
        "Application 2: Write a program to determine if the grades are:\n",
        "\n",
        "If:\n",
        "\n",
        "grade > = 75, \"Passed\"\n",
        "grade = 74, \"Remedial\"\n",
        "grade < 74, \"Failed\"\n",
        "note: if grade is negative number, it will not accept"
      ],
      "metadata": {
        "id": "SPQWTiLtLiEJ"
      }
    },
    {
      "cell_type": "code",
      "source": [
        "try:\n",
        "    grade = float(input(\"Enter the grade: \"))  # Ask user to input the grade\n",
        "\n",
        "    if grade < 0:\n",
        "        print(\"Invalid grade. Grade cannot be negative.\")\n",
        "    elif grade >= 75:\n",
        "        print(\"Passed\")\n",
        "    elif 74 <= grade <= 74.9:\n",
        "        print(\"Remedial\")\n",
        "    elif grade < 74:\n",
        "        print(\"Failed\")\n",
        "except ValueError:\n",
        "    print(\"Invalid input. Please enter a numeric grade.\")\n"
      ],
      "metadata": {
        "colab": {
          "base_uri": "https://localhost:8080/"
        },
        "id": "CvFy3LmHMP0B",
        "outputId": "6eea57d0-1e90-4919-9d4a-a41137ef5fe8"
      },
      "execution_count": 56,
      "outputs": [
        {
          "output_type": "stream",
          "name": "stdout",
          "text": [
            "Enter the grade: 74.9\n",
            "Remedial\n"
          ]
        }
      ]
    }
  ]
}